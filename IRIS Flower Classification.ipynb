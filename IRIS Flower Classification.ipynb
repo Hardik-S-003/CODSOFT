{
 "cells": [
  {
   "cell_type": "markdown",
   "id": "37dbbbe5",
   "metadata": {},
   "source": [
    "# Importing Libraries"
   ]
  },
  {
   "cell_type": "code",
   "execution_count": 9,
   "id": "d8413486",
   "metadata": {},
   "outputs": [],
   "source": [
    "import numpy as np\n",
    "import pandas as pd\n",
    "import matplotlib.pyplot as plt\n",
    "from sklearn.datasets import load_iris\n",
    "from sklearn.model_selection import train_test_split\n",
    "from sklearn.linear_model import LogisticRegression\n",
    "from sklearn.tree import DecisionTreeClassifier\n",
    "from sklearn.svm import SVC\n",
    "from sklearn.metrics import accuracy_score, classification_report\n",
    "import joblib"
   ]
  },
  {
   "cell_type": "markdown",
   "id": "6b1fa6e2",
   "metadata": {},
   "source": [
    "# Loading Dataset"
   ]
  },
  {
   "cell_type": "code",
   "execution_count": 10,
   "id": "adbeeb88",
   "metadata": {},
   "outputs": [
    {
     "name": "stdout",
     "output_type": "stream",
     "text": [
      "   sepal length (cm)  sepal width (cm)  petal length (cm)  petal width (cm)  \\\n",
      "0                5.1               3.5                1.4               0.2   \n",
      "1                4.9               3.0                1.4               0.2   \n",
      "2                4.7               3.2                1.3               0.2   \n",
      "3                4.6               3.1                1.5               0.2   \n",
      "4                5.0               3.6                1.4               0.2   \n",
      "\n",
      "  species  \n",
      "0  SETOSA  \n",
      "1  SETOSA  \n",
      "2  SETOSA  \n",
      "3  SETOSA  \n",
      "4  SETOSA  \n",
      "\n",
      "Statistics :\n",
      "        sepal length (cm)  sepal width (cm)  petal length (cm)  \\\n",
      "count         150.000000        150.000000         150.000000   \n",
      "mean            5.843333          3.057333           3.758000   \n",
      "std             0.828066          0.435866           1.765298   \n",
      "min             4.300000          2.000000           1.000000   \n",
      "25%             5.100000          2.800000           1.600000   \n",
      "50%             5.800000          3.000000           4.350000   \n",
      "75%             6.400000          3.300000           5.100000   \n",
      "max             7.900000          4.400000           6.900000   \n",
      "\n",
      "       petal width (cm)  \n",
      "count        150.000000  \n",
      "mean           1.199333  \n",
      "std            0.762238  \n",
      "min            0.100000  \n",
      "25%            0.300000  \n",
      "50%            1.300000  \n",
      "75%            1.800000  \n",
      "max            2.500000  \n",
      "\n",
      "Samples per species :\n",
      " SETOSA        50\n",
      "VERSICOLOR    50\n",
      "VIRGINICA     50\n",
      "Name: species, dtype: int64\n"
     ]
    }
   ],
   "source": [
    "iris = load_iris()\n",
    "df = pd.DataFrame(data=iris.data, columns=iris.feature_names)\n",
    "df['species'] = iris.target\n",
    "df['species'] = df['species'].map({0: 'SETOSA', 1: 'VERSICOLOR', 2: 'VIRGINICA'})\n",
    "\n",
    "#Understanding Dataset \n",
    "print(df.head())           \n",
    "print(\"\\nStatistics :\\n\",df.describe())       \n",
    "print(\"\\nSamples per species :\\n\",df['species'].value_counts())  "
   ]
  },
  {
   "cell_type": "code",
   "execution_count": 11,
   "id": "e9956a04",
   "metadata": {},
   "outputs": [],
   "source": [
    "#Features and target\n",
    "x = df[iris.feature_names]  \n",
    "y = df['species']          \n",
    "\n",
    "#Spliting the dataset into training 70% and testing 30%\n",
    "x_train, x_test, y_train, y_test = train_test_split(x, y, test_size=0.3, random_state=42)"
   ]
  },
  {
   "cell_type": "markdown",
   "id": "e20df35a",
   "metadata": {},
   "source": [
    "# Training Different Models"
   ]
  },
  {
   "cell_type": "code",
   "execution_count": 13,
   "id": "8b42953d",
   "metadata": {
    "scrolled": false
   },
   "outputs": [
    {
     "name": "stdout",
     "output_type": "stream",
     "text": [
      "Logistic Regression:\n",
      "\n",
      "Accuracy: 1.00\n",
      "Classification Report:\n",
      "              precision    recall  f1-score   support\n",
      "\n",
      "      setosa       1.00      1.00      1.00        19\n",
      "  versicolor       1.00      1.00      1.00        13\n",
      "   virginica       1.00      1.00      1.00        13\n",
      "\n",
      "    accuracy                           1.00        45\n",
      "   macro avg       1.00      1.00      1.00        45\n",
      "weighted avg       1.00      1.00      1.00        45\n",
      "\n",
      "\n",
      "Decision Tree:\n",
      "\n",
      "Accuracy: 1.00\n",
      "Classification Report:\n",
      "              precision    recall  f1-score   support\n",
      "\n",
      "      setosa       1.00      1.00      1.00        19\n",
      "  versicolor       1.00      1.00      1.00        13\n",
      "   virginica       1.00      1.00      1.00        13\n",
      "\n",
      "    accuracy                           1.00        45\n",
      "   macro avg       1.00      1.00      1.00        45\n",
      "weighted avg       1.00      1.00      1.00        45\n",
      "\n",
      "\n",
      "SVM:\n",
      "\n",
      "Accuracy: 1.00\n",
      "Classification Report:\n",
      "              precision    recall  f1-score   support\n",
      "\n",
      "      setosa       1.00      1.00      1.00        19\n",
      "  versicolor       1.00      1.00      1.00        13\n",
      "   virginica       1.00      1.00      1.00        13\n",
      "\n",
      "    accuracy                           1.00        45\n",
      "   macro avg       1.00      1.00      1.00        45\n",
      "weighted avg       1.00      1.00      1.00        45\n",
      "\n",
      "\n"
     ]
    }
   ],
   "source": [
    "#Initializing models\n",
    "models = { 'Logistic Regression': LogisticRegression(max_iter=200),'Decision Tree': DecisionTreeClassifier(), 'SVM': SVC() }\n",
    "\n",
    "#Training and evaluating each model\n",
    "for model_name, model in models.items():\n",
    "    model.fit(x_train, y_train)        \n",
    "    y_pred = model.predict(x_test)     \n",
    "    accuracy = accuracy_score(y_test, y_pred)  \n",
    "    report = classification_report(y_test, y_pred, target_names=iris.target_names)  \n",
    "    \n",
    "    print(f\"{model_name}:\\n\")\n",
    "    print(f\"Accuracy: {accuracy:.2f}\")\n",
    "    print(f\"Classification Report:\\n{report}\\n\")\n"
   ]
  },
  {
   "cell_type": "code",
   "execution_count": 14,
   "id": "d804c2fe",
   "metadata": {},
   "outputs": [
    {
     "data": {
      "text/plain": [
       "['iris_svm_model.pkl']"
      ]
     },
     "execution_count": 14,
     "metadata": {},
     "output_type": "execute_result"
    }
   ],
   "source": [
    "#All the models provide equal accuracy,so we select any one of the model for further use.\n",
    "\n",
    "#Here we use the SVM Model\n",
    "joblib.dump(model,'iris_svm_model.pkl')"
   ]
  },
  {
   "cell_type": "markdown",
   "id": "e4b6392c",
   "metadata": {},
   "source": [
    "# Prediction using the Trained Model"
   ]
  },
  {
   "cell_type": "code",
   "execution_count": 15,
   "id": "e4f022a1",
   "metadata": {},
   "outputs": [
    {
     "name": "stdout",
     "output_type": "stream",
     "text": [
      "Enter Sepal length in cm: 8.9\n",
      "Enter Sepal width in cm: 7\n",
      "Enter Petal length in cm: 5.3\n",
      "Enter Petal width in cm: 2.7\n",
      "Predicted species: VIRGINICA\n"
     ]
    }
   ],
   "source": [
    "#Load the model\n",
    "loaded_model = joblib.load('iris_svm_model.pkl')\n",
    "\n",
    "def input_for_prediction():\n",
    "    \n",
    "    sepal_length = float(input(\"Enter Sepal length in cm: \"))\n",
    "    sepal_width = float(input(\"Enter Sepal width in cm: \"))\n",
    "    petal_length = float(input(\"Enter Petal length in cm: \"))\n",
    "    petal_width = float(input(\"Enter Petal width in cm: \"))\n",
    "    \n",
    "    new_data = pd.DataFrame([[sepal_length,sepal_width,petal_length,petal_width]], columns=iris.feature_names)\n",
    "    prediction = loaded_model.predict(new_data)\n",
    "    print(f\"Predicted species: {prediction[0]}\")\n",
    "\n",
    "    \n",
    "input_for_prediction()"
   ]
  }
 ],
 "metadata": {
  "kernelspec": {
   "display_name": "Python 3 (ipykernel)",
   "language": "python",
   "name": "python3"
  },
  "language_info": {
   "codemirror_mode": {
    "name": "ipython",
    "version": 3
   },
   "file_extension": ".py",
   "mimetype": "text/x-python",
   "name": "python",
   "nbconvert_exporter": "python",
   "pygments_lexer": "ipython3",
   "version": "3.7.6"
  }
 },
 "nbformat": 4,
 "nbformat_minor": 5
}
